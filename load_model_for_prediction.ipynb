{
 "cells": [
  {
   "cell_type": "code",
   "execution_count": 1,
   "metadata": {},
   "outputs": [],
   "source": [
    "%load_ext autoreload\n",
    "%autoreload 2"
   ]
  },
  {
   "cell_type": "code",
   "execution_count": 20,
   "metadata": {},
   "outputs": [],
   "source": [
    "import importlib\n",
    "\n",
    "import torch\n",
    "import torch.optim as optim\n",
    "from torch.optim.lr_scheduler import ReduceLROnPlateau\n",
    "\n",
    "from datasets.hdf5 import get_train_loaders\n",
    "from unet3d.config import load_config\n",
    "from unet3d.losses import get_loss_criterion\n",
    "from unet3d.metrics import get_evaluation_metric\n",
    "from unet3d.model import get_model\n",
    "from unet3d.trainer import UNet3DTrainer\n",
    "from unet3d.utils import get_logger\n",
    "from unet3d.utils import get_number_of_learnable_parameters\n",
    "\n",
    "import argparse\n",
    "\n",
    "import os\n",
    "import yaml\n",
    "import numpy as np\n",
    "import h5py\n",
    "import matplotlib.pyplot as plt"
   ]
  },
  {
   "cell_type": "markdown",
   "metadata": {},
   "source": [
    "# load data to see how it is structured"
   ]
  },
  {
   "cell_type": "code",
   "execution_count": 28,
   "metadata": {},
   "outputs": [
    {
     "name": "stdout",
     "output_type": "stream",
     "text": [
      "raw (input) data\n",
      "\t unique values: [8.07995910e-08 5.25213452e-07 5.89760546e-07 ... 9.99999048e-01\n",
      " 9.99999198e-01 9.99999818e-01]\n",
      "\t shape: (128, 128, 128)\n",
      "\t shape: float64\n",
      "\n",
      "label data\n",
      "\t unique values: [0 1]\n",
      "\t shape: (128, 128, 128)\n",
      "\t shape: int64\n"
     ]
    }
   ],
   "source": [
    "with h5py.File(\"resources/random_label3D.h5\", 'r') as f:\n",
    "    raw = f[\"raw\"][:]\n",
    "    label = f[\"label\"][:]    \n",
    "\n",
    "\n",
    "print('raw (input) data')\n",
    "print('\\t', 'unique values:', np.unique(raw))\n",
    "print('\\t', 'shape:', raw.shape)\n",
    "print('\\t', 'shape:', raw.dtype)\n",
    "\n",
    "print()\n",
    "print('label data')\n",
    "print('\\t', 'unique values:', np.unique(label))\n",
    "print('\\t', 'shape:', label.shape)\n",
    "print('\\t', 'shape:', label.dtype)\n"
   ]
  },
  {
   "cell_type": "code",
   "execution_count": 39,
   "metadata": {},
   "outputs": [
    {
     "name": "stdout",
     "output_type": "stream",
     "text": [
      "raw (input) data\n",
      "\t unique values: [0. 1.]\n",
      "\t shape: (128, 128, 128)\n",
      "\t dtype: float64\n",
      "3398\n",
      "label data\n",
      "\t unique values: [0 1]\n",
      "\t shape: (128, 128, 128)\n",
      "\t dtype: int64\n",
      "6\n"
     ]
    }
   ],
   "source": [
    "with h5py.File(\"h5_fractals/2.h5\", 'r') as f:\n",
    "    raw = f[\"raw\"][:]\n",
    "    label = f[\"label\"][:]    \n",
    "\n",
    "\n",
    "print('raw (input) data')\n",
    "print('\\t', 'unique values:', np.unique(raw))\n",
    "print('\\t', 'shape:', raw.shape)\n",
    "print('\\t', 'dtype:', raw.dtype)\n",
    "print(np.sum(raw==1))\n",
    "\n",
    "print('label data')\n",
    "print('\\t', 'unique values:', np.unique(label))\n",
    "print('\\t', 'shape:', label.shape)\n",
    "print('\\t', 'dtype:', label.dtype)\n",
    "print(np.sum(label==1))"
   ]
  },
  {
   "cell_type": "markdown",
   "metadata": {},
   "source": [
    "# load model for predction"
   ]
  },
  {
   "cell_type": "code",
   "execution_count": 3,
   "metadata": {},
   "outputs": [
    {
     "name": "stderr",
     "output_type": "stream",
     "text": [
      "/home/gheimber/software/anaconda3/envs/dev/lib/python3.6/site-packages/ipykernel_launcher.py:2: YAMLLoadWarning: calling yaml.load() without Loader=... is deprecated, as the default Loader is unsafe. Please read https://msg.pyyaml.org/load for full details.\n",
      "  \n"
     ]
    }
   ],
   "source": [
    "config_file = 'resources/train_config_ce.yaml'\n",
    "config = yaml.load(open(config_file, 'r'))\n",
    "model = get_model(config)\n",
    "loaded_model = torch.load('3dunet/last_checkpoint.pytorch')\n",
    "model.load_state_dict(loaded_model['model_state_dict'])"
   ]
  },
  {
   "cell_type": "markdown",
   "metadata": {},
   "source": [
    "### load training set"
   ]
  },
  {
   "cell_type": "code",
   "execution_count": 4,
   "metadata": {},
   "outputs": [],
   "source": [
    "with h5py.File(\"trachea_test/0.h5\", 'r') as f:\n",
    "    raw = f[\"raw\"][:]\n",
    "    label = f[\"label\"][:]    \n",
    "    "
   ]
  },
  {
   "cell_type": "code",
   "execution_count": 8,
   "metadata": {},
   "outputs": [
    {
     "data": {
      "text/plain": [
       "(32, 64, 64)"
      ]
     },
     "execution_count": 8,
     "metadata": {},
     "output_type": "execute_result"
    }
   ],
   "source": [
    "inp = torch.tensor(raw)\n",
    "inp = raw[:32,:64,:64]\n",
    "inp.shape"
   ]
  },
  {
   "cell_type": "code",
   "execution_count": 9,
   "metadata": {},
   "outputs": [
    {
     "data": {
      "text/plain": [
       "(1, 1, 32, 64, 64)"
      ]
     },
     "execution_count": 9,
     "metadata": {},
     "output_type": "execute_result"
    }
   ],
   "source": [
    "inp_2 = np.expand_dims(inp, 0)\n",
    "inp_3 = np.expand_dims(inp_2, 0)\n",
    "inp_3.shape"
   ]
  },
  {
   "cell_type": "code",
   "execution_count": 24,
   "metadata": {},
   "outputs": [],
   "source": [
    "#prediction = model(torch.tensor(inp_3, dtype=torch.double))\n",
    "prediction = model(torch.ones(1,1,128,128,128))\n",
    "prediction_np = prediction.detach().numpy()"
   ]
  },
  {
   "cell_type": "code",
   "execution_count": 29,
   "metadata": {},
   "outputs": [],
   "source": [
    "import ipyvolume as ipv"
   ]
  },
  {
   "cell_type": "code",
   "execution_count": 32,
   "metadata": {},
   "outputs": [
    {
     "data": {
      "application/vnd.jupyter.widget-view+json": {
       "model_id": "8e6245d19aa8452d85ecad0fa2ce33ce",
       "version_major": 2,
       "version_minor": 0
      },
      "text/plain": [
       "VBox(children=(VBox(children=(HBox(children=(Label(value='levels:'), FloatSlider(value=0.1, max=1.0, step=0.00…"
      ]
     },
     "metadata": {},
     "output_type": "display_data"
    }
   ],
   "source": [
    "ipv.quickvolshow(np.squeeze(prediction_np[:,1,:,:,:]))"
   ]
  },
  {
   "cell_type": "code",
   "execution_count": null,
   "metadata": {},
   "outputs": [],
   "source": []
  }
 ],
 "metadata": {
  "kernelspec": {
   "display_name": "Python 3",
   "language": "python",
   "name": "python3"
  },
  "language_info": {
   "codemirror_mode": {
    "name": "ipython",
    "version": 3
   },
   "file_extension": ".py",
   "mimetype": "text/x-python",
   "name": "python",
   "nbconvert_exporter": "python",
   "pygments_lexer": "ipython3",
   "version": "3.6.8"
  }
 },
 "nbformat": 4,
 "nbformat_minor": 2
}
