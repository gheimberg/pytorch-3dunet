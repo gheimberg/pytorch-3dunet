{
 "cells": [
  {
   "cell_type": "code",
   "execution_count": 1,
   "metadata": {},
   "outputs": [],
   "source": [
    "%load_ext autoreload\n",
    "%autoreload 2"
   ]
  },
  {
   "cell_type": "code",
   "execution_count": 2,
   "metadata": {},
   "outputs": [],
   "source": [
    "import importlib\n",
    "\n",
    "import torch\n",
    "import torch.optim as optim\n",
    "from torch.optim.lr_scheduler import ReduceLROnPlateau\n",
    "\n",
    "from datasets.hdf5 import get_train_loaders\n",
    "from unet3d.config import load_config\n",
    "from unet3d.losses import get_loss_criterion\n",
    "from unet3d.metrics import get_evaluation_metric\n",
    "from unet3d.model import get_model\n",
    "from unet3d.trainer import UNet3DTrainer\n",
    "from unet3d.utils import get_logger\n",
    "from unet3d.utils import get_number_of_learnable_parameters\n",
    "\n",
    "import argparse\n",
    "\n",
    "import os\n",
    "import yaml\n",
    "import numpy as np"
   ]
  },
  {
   "cell_type": "code",
   "execution_count": 3,
   "metadata": {},
   "outputs": [
    {
     "name": "stderr",
     "output_type": "stream",
     "text": [
      "/home/gheimber/software/anaconda3/envs/dev/lib/python3.6/site-packages/ipykernel_launcher.py:2: YAMLLoadWarning: calling yaml.load() without Loader=... is deprecated, as the default Loader is unsafe. Please read https://msg.pyyaml.org/load for full details.\n",
      "  \n"
     ]
    }
   ],
   "source": [
    "config_file = 'resources/train_config_dice.yaml'\n",
    "config = yaml.load(open(config_file, 'r'))\n",
    "model = get_model(config)\n",
    "loaded_model = torch.load('3dunet/best_checkpoint.pytorch')\n",
    "model.load_state_dict(loaded_model['model_state_dict'])"
   ]
  },
  {
   "cell_type": "code",
   "execution_count": 8,
   "metadata": {},
   "outputs": [],
   "source": [
    "prediction = model(torch.zeros(1,1,50,50,50))\n",
    "prediction_np = prediction.detach().numpy()"
   ]
  },
  {
   "cell_type": "code",
   "execution_count": 9,
   "metadata": {},
   "outputs": [
    {
     "data": {
      "text/plain": [
       "array([[[[[-0.7812276 , -0.9906611 , -1.0881246 , ..., -0.4890366 ,\n",
       "           -0.34127688, -0.2731741 ],\n",
       "          [-1.2083604 , -1.414762  , -1.4640585 , ..., -0.6194863 ,\n",
       "           -0.4752579 , -0.34453893],\n",
       "          [-1.2981142 , -1.5110765 , -1.5435966 , ..., -0.35375926,\n",
       "           -0.24357384, -0.18988967],\n",
       "          ...,\n",
       "          [-0.76230234, -0.7427946 , -0.6649752 , ..., -0.034718  ,\n",
       "            0.02723649,  0.09578961],\n",
       "          [-0.45462725, -0.2446384 , -0.12134302, ...,  0.41373178,\n",
       "            0.43876433,  0.33645323],\n",
       "          [-0.4929939 , -0.33749488, -0.21530782, ...,  0.19455962,\n",
       "            0.16958295,  0.17544071]],\n",
       "\n",
       "         [[-1.1996089 , -1.5300776 , -1.7381389 , ..., -1.7668756 ,\n",
       "           -1.5575361 , -1.0574166 ],\n",
       "          [-1.8464499 , -1.9631349 , -2.0932267 , ..., -2.0983443 ,\n",
       "           -2.009969  , -1.6647013 ],\n",
       "          [-1.9409184 , -2.080535  , -2.204804  , ..., -2.0876842 ,\n",
       "           -1.9608508 , -1.6128749 ],\n",
       "          ...,\n",
       "          [-1.5144197 , -1.7069123 , -1.8338056 , ..., -1.585037  ,\n",
       "           -1.410146  , -1.0293959 ],\n",
       "          [-1.1980155 , -1.2844175 , -1.4534184 , ..., -1.0939678 ,\n",
       "           -0.93444335, -0.6811268 ],\n",
       "          [-1.0693862 , -1.1884897 , -1.2383405 , ..., -0.93381816,\n",
       "           -0.89490056, -0.61761945]],\n",
       "\n",
       "         [[-0.99043775, -1.2997302 , -1.5045872 , ..., -1.4290881 ,\n",
       "           -1.0257237 , -0.74669087],\n",
       "          [-1.6282762 , -1.6466274 , -1.7455895 , ..., -1.7539954 ,\n",
       "           -1.6294218 , -1.3100312 ],\n",
       "          [-1.7154696 , -1.7206697 , -1.8178315 , ..., -1.7637821 ,\n",
       "           -1.64789   , -1.3816222 ],\n",
       "          ...,\n",
       "          [-1.2244155 , -1.3384124 , -1.4197494 , ..., -1.1591965 ,\n",
       "           -1.110156  , -0.96917343],\n",
       "          [-1.0352877 , -1.1172417 , -1.163516  , ..., -0.8574575 ,\n",
       "           -0.84271693, -0.78453946],\n",
       "          [-0.99700195, -1.207649  , -1.2005956 , ..., -0.88419986,\n",
       "           -0.9233688 , -0.76538956]],\n",
       "\n",
       "         ...,\n",
       "\n",
       "         [[-0.97836757, -1.234204  , -1.4445871 , ..., -1.0116158 ,\n",
       "           -0.8796122 , -0.9672893 ],\n",
       "          [-1.6775854 , -1.6630647 , -1.6509361 , ..., -1.5659888 ,\n",
       "           -1.4514079 , -1.4398105 ],\n",
       "          [-1.7873374 , -1.7037535 , -1.6534287 , ..., -1.7714393 ,\n",
       "           -1.6822933 , -1.6111699 ],\n",
       "          ...,\n",
       "          [-1.8781371 , -1.9362534 , -2.0198274 , ..., -2.108808  ,\n",
       "           -2.033112  , -1.8440149 ],\n",
       "          [-1.883757  , -2.0341742 , -2.1263685 , ..., -2.1896763 ,\n",
       "           -2.1121213 , -1.8857312 ],\n",
       "          [-1.6464242 , -1.9734663 , -2.0575645 , ..., -2.139912  ,\n",
       "           -2.0294917 , -1.6120213 ]],\n",
       "\n",
       "         [[-0.78563106, -0.9621859 , -1.1065848 , ..., -0.47086543,\n",
       "           -0.54559237, -0.79058653],\n",
       "          [-1.376123  , -1.397113  , -1.3501356 , ..., -0.8417259 ,\n",
       "           -0.9412248 , -1.2011111 ],\n",
       "          [-1.5115478 , -1.3698616 , -1.2688082 , ..., -0.7862011 ,\n",
       "           -0.8916567 , -1.1811538 ],\n",
       "          ...,\n",
       "          [-0.71749586, -0.5381703 , -0.5195277 , ..., -0.11430535,\n",
       "           -0.42706951, -0.8469408 ],\n",
       "          [-0.79703426, -0.65736574, -0.68127674, ..., -0.41347462,\n",
       "           -0.6654213 , -0.9550037 ],\n",
       "          [-1.1579363 , -1.2783937 , -1.268769  , ..., -1.215558  ,\n",
       "           -1.2362658 , -1.0804651 ]],\n",
       "\n",
       "         [[-0.63741785, -1.1465633 , -1.6399053 , ..., -1.2240329 ,\n",
       "           -0.9614968 , -0.86098933],\n",
       "          [-1.3424256 , -1.9718784 , -2.3382208 , ..., -2.0773253 ,\n",
       "           -1.8759223 , -1.5957295 ],\n",
       "          [-1.701935  , -2.2650163 , -2.5964277 , ..., -2.3594224 ,\n",
       "           -2.1748183 , -1.7970753 ],\n",
       "          ...,\n",
       "          [-1.077911  , -1.7676483 , -2.121704  , ..., -1.6577984 ,\n",
       "           -1.4500018 , -1.3187815 ],\n",
       "          [-0.8675599 , -1.4093419 , -1.9307826 , ..., -1.3268961 ,\n",
       "           -1.0956835 , -1.0442294 ],\n",
       "          [-0.8548113 , -1.2813389 , -1.5917675 , ..., -1.2981654 ,\n",
       "           -1.099196  , -0.8228957 ]]]]], dtype=float32)"
      ]
     },
     "execution_count": 9,
     "metadata": {},
     "output_type": "execute_result"
    }
   ],
   "source": [
    "prediction_np"
   ]
  },
  {
   "cell_type": "code",
   "execution_count": 6,
   "metadata": {},
   "outputs": [
    {
     "data": {
      "application/vnd.jupyter.widget-view+json": {
       "model_id": "90c8fa5ee636434b88ea65ac87a7ee9b",
       "version_major": 2,
       "version_minor": 0
      },
      "text/plain": [
       "VBox(children=(VBox(children=(HBox(children=(Label(value='levels:'), FloatSlider(value=0.1, max=1.0, step=0.00…"
      ]
     },
     "metadata": {},
     "output_type": "display_data"
    }
   ],
   "source": [
    "import ipyvolume as ipv\n",
    "ipv.quickvolshow(np.squeeze(prediction_np))"
   ]
  },
  {
   "cell_type": "code",
   "execution_count": null,
   "metadata": {},
   "outputs": [],
   "source": []
  },
  {
   "cell_type": "code",
   "execution_count": null,
   "metadata": {},
   "outputs": [],
   "source": []
  }
 ],
 "metadata": {
  "kernelspec": {
   "display_name": "Python 3",
   "language": "python",
   "name": "python3"
  },
  "language_info": {
   "codemirror_mode": {
    "name": "ipython",
    "version": 3
   },
   "file_extension": ".py",
   "mimetype": "text/x-python",
   "name": "python",
   "nbconvert_exporter": "python",
   "pygments_lexer": "ipython3",
   "version": "3.6.8"
  }
 },
 "nbformat": 4,
 "nbformat_minor": 2
}
