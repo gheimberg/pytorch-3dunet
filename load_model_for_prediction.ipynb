{
 "cells": [
  {
   "cell_type": "code",
   "execution_count": null,
   "metadata": {},
   "outputs": [],
   "source": [
    "%load_ext autoreload\n",
    "%autoreload 2"
   ]
  },
  {
   "cell_type": "code",
   "execution_count": 2,
   "metadata": {},
   "outputs": [],
   "source": [
    "import importlib\n",
    "\n",
    "import torch\n",
    "import torch.optim as optim\n",
    "from torch.optim.lr_scheduler import ReduceLROnPlateau\n",
    "\n",
    "from datasets.hdf5 import get_train_loaders\n",
    "from unet3d.config import load_config\n",
    "from unet3d.losses import get_loss_criterion\n",
    "from unet3d.metrics import get_evaluation_metric\n",
    "from unet3d.model import get_model\n",
    "from unet3d.trainer import UNet3DTrainer\n",
    "from unet3d.utils import get_logger\n",
    "from unet3d.utils import get_number_of_learnable_parameters\n",
    "\n",
    "import argparse\n",
    "\n",
    "import os\n",
    "import yaml\n",
    "import numpy as np\n",
    "import h5py\n",
    "import matplotlib.pyplot as plt\n",
    "import ipyvolume as ipv\n",
    "\n",
    "import time"
   ]
  },
  {
   "cell_type": "code",
   "execution_count": 3,
   "metadata": {},
   "outputs": [],
   "source": [
    "def show_figure(data, xs, ys, zs):\n",
    "    sphere_size = 5\n",
    "    # Make sure to convert list of coordinates to\n",
    "    # _float_ array otherwise it won't work.\n",
    "    xs = np.asarray(xs, dtype='float32')\n",
    "    ys = np.asarray(ys, dtype='float32')\n",
    "    zs = np.asarray(zs, dtype='float32')\n",
    "    ipv.figure()\n",
    "    ipv.volshow(data)\n",
    "    ipv.scatter(xs, ys, zs, marker='sphere', color='yellow', size=sphere_size)\n",
    "    #ipv.xyzlim(0, 50)\n",
    "    ipv.show()"
   ]
  },
  {
   "cell_type": "markdown",
   "metadata": {},
   "source": [
    "# load model for predction"
   ]
  },
  {
   "cell_type": "code",
   "execution_count": 4,
   "metadata": {},
   "outputs": [
    {
     "data": {
      "text/plain": [
       "UNet3D(\n",
       "  (encoders): ModuleList(\n",
       "    (0): Encoder(\n",
       "      (basic_module): DoubleConv(\n",
       "        (SingleConv1): SingleConv(\n",
       "          (conv): Conv3d(1, 16, kernel_size=(3, 3, 3), stride=(1, 1, 1), padding=(1, 1, 1), bias=False)\n",
       "          (ReLU): ReLU(inplace)\n",
       "          (groupnorm): GroupNorm(8, 16, eps=1e-05, affine=True)\n",
       "        )\n",
       "        (SingleConv2): SingleConv(\n",
       "          (conv): Conv3d(16, 32, kernel_size=(3, 3, 3), stride=(1, 1, 1), padding=(1, 1, 1), bias=False)\n",
       "          (ReLU): ReLU(inplace)\n",
       "          (groupnorm): GroupNorm(8, 32, eps=1e-05, affine=True)\n",
       "        )\n",
       "      )\n",
       "    )\n",
       "    (1): Encoder(\n",
       "      (pooling): MaxPool3d(kernel_size=(2, 2, 2), stride=(2, 2, 2), padding=0, dilation=1, ceil_mode=False)\n",
       "      (basic_module): DoubleConv(\n",
       "        (SingleConv1): SingleConv(\n",
       "          (conv): Conv3d(32, 32, kernel_size=(3, 3, 3), stride=(1, 1, 1), padding=(1, 1, 1), bias=False)\n",
       "          (ReLU): ReLU(inplace)\n",
       "          (groupnorm): GroupNorm(8, 32, eps=1e-05, affine=True)\n",
       "        )\n",
       "        (SingleConv2): SingleConv(\n",
       "          (conv): Conv3d(32, 64, kernel_size=(3, 3, 3), stride=(1, 1, 1), padding=(1, 1, 1), bias=False)\n",
       "          (ReLU): ReLU(inplace)\n",
       "          (groupnorm): GroupNorm(8, 64, eps=1e-05, affine=True)\n",
       "        )\n",
       "      )\n",
       "    )\n",
       "    (2): Encoder(\n",
       "      (pooling): MaxPool3d(kernel_size=(2, 2, 2), stride=(2, 2, 2), padding=0, dilation=1, ceil_mode=False)\n",
       "      (basic_module): DoubleConv(\n",
       "        (SingleConv1): SingleConv(\n",
       "          (conv): Conv3d(64, 64, kernel_size=(3, 3, 3), stride=(1, 1, 1), padding=(1, 1, 1), bias=False)\n",
       "          (ReLU): ReLU(inplace)\n",
       "          (groupnorm): GroupNorm(8, 64, eps=1e-05, affine=True)\n",
       "        )\n",
       "        (SingleConv2): SingleConv(\n",
       "          (conv): Conv3d(64, 128, kernel_size=(3, 3, 3), stride=(1, 1, 1), padding=(1, 1, 1), bias=False)\n",
       "          (ReLU): ReLU(inplace)\n",
       "          (groupnorm): GroupNorm(8, 128, eps=1e-05, affine=True)\n",
       "        )\n",
       "      )\n",
       "    )\n",
       "    (3): Encoder(\n",
       "      (pooling): MaxPool3d(kernel_size=(2, 2, 2), stride=(2, 2, 2), padding=0, dilation=1, ceil_mode=False)\n",
       "      (basic_module): DoubleConv(\n",
       "        (SingleConv1): SingleConv(\n",
       "          (conv): Conv3d(128, 128, kernel_size=(3, 3, 3), stride=(1, 1, 1), padding=(1, 1, 1), bias=False)\n",
       "          (ReLU): ReLU(inplace)\n",
       "          (groupnorm): GroupNorm(8, 128, eps=1e-05, affine=True)\n",
       "        )\n",
       "        (SingleConv2): SingleConv(\n",
       "          (conv): Conv3d(128, 256, kernel_size=(3, 3, 3), stride=(1, 1, 1), padding=(1, 1, 1), bias=False)\n",
       "          (ReLU): ReLU(inplace)\n",
       "          (groupnorm): GroupNorm(8, 256, eps=1e-05, affine=True)\n",
       "        )\n",
       "      )\n",
       "    )\n",
       "  )\n",
       "  (decoders): ModuleList(\n",
       "    (0): Decoder(\n",
       "      (basic_module): DoubleConv(\n",
       "        (SingleConv1): SingleConv(\n",
       "          (conv): Conv3d(384, 128, kernel_size=(3, 3, 3), stride=(1, 1, 1), padding=(1, 1, 1), bias=False)\n",
       "          (ReLU): ReLU(inplace)\n",
       "          (groupnorm): GroupNorm(8, 128, eps=1e-05, affine=True)\n",
       "        )\n",
       "        (SingleConv2): SingleConv(\n",
       "          (conv): Conv3d(128, 128, kernel_size=(3, 3, 3), stride=(1, 1, 1), padding=(1, 1, 1), bias=False)\n",
       "          (ReLU): ReLU(inplace)\n",
       "          (groupnorm): GroupNorm(8, 128, eps=1e-05, affine=True)\n",
       "        )\n",
       "      )\n",
       "    )\n",
       "    (1): Decoder(\n",
       "      (basic_module): DoubleConv(\n",
       "        (SingleConv1): SingleConv(\n",
       "          (conv): Conv3d(192, 64, kernel_size=(3, 3, 3), stride=(1, 1, 1), padding=(1, 1, 1), bias=False)\n",
       "          (ReLU): ReLU(inplace)\n",
       "          (groupnorm): GroupNorm(8, 64, eps=1e-05, affine=True)\n",
       "        )\n",
       "        (SingleConv2): SingleConv(\n",
       "          (conv): Conv3d(64, 64, kernel_size=(3, 3, 3), stride=(1, 1, 1), padding=(1, 1, 1), bias=False)\n",
       "          (ReLU): ReLU(inplace)\n",
       "          (groupnorm): GroupNorm(8, 64, eps=1e-05, affine=True)\n",
       "        )\n",
       "      )\n",
       "    )\n",
       "    (2): Decoder(\n",
       "      (basic_module): DoubleConv(\n",
       "        (SingleConv1): SingleConv(\n",
       "          (conv): Conv3d(96, 32, kernel_size=(3, 3, 3), stride=(1, 1, 1), padding=(1, 1, 1), bias=False)\n",
       "          (ReLU): ReLU(inplace)\n",
       "          (groupnorm): GroupNorm(8, 32, eps=1e-05, affine=True)\n",
       "        )\n",
       "        (SingleConv2): SingleConv(\n",
       "          (conv): Conv3d(32, 32, kernel_size=(3, 3, 3), stride=(1, 1, 1), padding=(1, 1, 1), bias=False)\n",
       "          (ReLU): ReLU(inplace)\n",
       "          (groupnorm): GroupNorm(8, 32, eps=1e-05, affine=True)\n",
       "        )\n",
       "      )\n",
       "    )\n",
       "  )\n",
       "  (final_conv): Conv3d(32, 2, kernel_size=(1, 1, 1), stride=(1, 1, 1))\n",
       "  (final_activation): Softmax()\n",
       ")"
      ]
     },
     "execution_count": 4,
     "metadata": {},
     "output_type": "execute_result"
    }
   ],
   "source": [
    "config_file = 'resources/train_config_ce.yaml'\n",
    "config = yaml.load(open(config_file, 'r'), Loader=yaml.FullLoader)\n",
    "model = get_model(config)\n",
    "loaded_model = torch.load('3dunet/last_checkpoint.pytorch')\n",
    "model.load_state_dict(loaded_model['model_state_dict'])\n",
    "model.eval() "
   ]
  },
  {
   "cell_type": "markdown",
   "metadata": {},
   "source": [
    "### load training and test sets using a data loader"
   ]
  },
  {
   "cell_type": "code",
   "execution_count": 5,
   "metadata": {},
   "outputs": [
    {
     "name": "stdout",
     "output_type": "stream",
     "text": [
      "2019-08-07 23:05:26,697 [MainThread] INFO HDF5Dataset - Creating training and validation set loaders...\n",
      "2019-08-07 23:05:26,699 [MainThread] INFO HDF5Dataset - Slice builder class: SliceBuilder\n",
      "2019-08-07 23:05:26,699 [MainThread] INFO HDF5Dataset - Loading training set from: ../h5_fractals/0.h5...\n",
      "2019-08-07 23:05:26,820 [MainThread] INFO HDF5Dataset - Loading training set from: ../h5_fractals/1.h5...\n",
      "2019-08-07 23:05:26,934 [MainThread] INFO HDF5Dataset - Loading training set from: ../h5_fractals/2.h5...\n",
      "2019-08-07 23:05:27,049 [MainThread] INFO HDF5Dataset - Loading training set from: ../h5_fractals/3.h5...\n",
      "2019-08-07 23:05:27,166 [MainThread] INFO HDF5Dataset - Loading training set from: ../h5_fractals/4.h5...\n",
      "2019-08-07 23:05:27,285 [MainThread] INFO HDF5Dataset - Loading training set from: ../h5_fractals/5.h5...\n",
      "2019-08-07 23:05:27,401 [MainThread] INFO HDF5Dataset - Loading training set from: ../h5_fractals/6.h5...\n",
      "2019-08-07 23:05:27,515 [MainThread] INFO HDF5Dataset - Loading training set from: ../h5_fractals/7.h5...\n",
      "2019-08-07 23:05:27,630 [MainThread] INFO HDF5Dataset - Loading training set from: ../h5_fractals/8.h5...\n",
      "2019-08-07 23:05:27,742 [MainThread] INFO HDF5Dataset - Loading training set from: ../h5_fractals/9.h5...\n",
      "2019-08-07 23:05:27,859 [MainThread] INFO HDF5Dataset - Loading training set from: ../h5_fractals/10.h5...\n",
      "2019-08-07 23:05:27,978 [MainThread] INFO HDF5Dataset - Loading training set from: ../h5_fractals/11.h5...\n",
      "2019-08-07 23:05:28,091 [MainThread] INFO HDF5Dataset - Loading training set from: ../h5_fractals/22.h5...\n",
      "2019-08-07 23:05:28,203 [MainThread] INFO HDF5Dataset - Loading training set from: ../h5_fractals/23.h5...\n",
      "2019-08-07 23:05:28,315 [MainThread] INFO HDF5Dataset - Loading training set from: ../h5_fractals/24.h5...\n",
      "2019-08-07 23:05:28,427 [MainThread] INFO HDF5Dataset - Loading training set from: ../h5_fractals/25.h5...\n",
      "2019-08-07 23:05:28,539 [MainThread] INFO HDF5Dataset - Loading training set from: ../h5_fractals/26.h5...\n",
      "2019-08-07 23:05:28,656 [MainThread] INFO HDF5Dataset - Loading training set from: ../h5_fractals/27.h5...\n",
      "2019-08-07 23:05:28,772 [MainThread] INFO HDF5Dataset - Loading training set from: ../h5_fractals/28.h5...\n",
      "2019-08-07 23:05:28,892 [MainThread] INFO HDF5Dataset - Loading training set from: ../h5_fractals/29.h5...\n",
      "2019-08-07 23:05:29,008 [MainThread] INFO HDF5Dataset - Loading training set from: ../h5_fractals/30.h5...\n",
      "2019-08-07 23:05:29,126 [MainThread] INFO HDF5Dataset - Loading training set from: ../h5_fractals/31.h5...\n",
      "2019-08-07 23:05:29,242 [MainThread] INFO HDF5Dataset - Loading training set from: ../h5_fractals/32.h5...\n",
      "2019-08-07 23:05:29,360 [MainThread] INFO HDF5Dataset - Loading training set from: ../h5_fractals/33.h5...\n",
      "2019-08-07 23:05:29,480 [MainThread] INFO HDF5Dataset - Loading training set from: ../h5_fractals/34.h5...\n",
      "2019-08-07 23:05:29,599 [MainThread] INFO HDF5Dataset - Loading training set from: ../h5_fractals/35.h5...\n",
      "2019-08-07 23:05:29,720 [MainThread] INFO HDF5Dataset - Loading training set from: ../h5_fractals/36.h5...\n",
      "2019-08-07 23:05:29,839 [MainThread] INFO HDF5Dataset - Loading training set from: ../h5_fractals/37.h5...\n",
      "2019-08-07 23:05:29,964 [MainThread] INFO HDF5Dataset - Loading training set from: ../h5_fractals/38.h5...\n",
      "2019-08-07 23:05:30,089 [MainThread] INFO HDF5Dataset - Loading training set from: ../h5_fractals/39.h5...\n",
      "2019-08-07 23:05:30,212 [MainThread] INFO HDF5Dataset - Loading training set from: ../h5_fractals/40.h5...\n",
      "2019-08-07 23:05:30,337 [MainThread] INFO HDF5Dataset - Loading training set from: ../h5_fractals/41.h5...\n",
      "2019-08-07 23:05:30,460 [MainThread] INFO HDF5Dataset - Loading training set from: ../h5_fractals/42.h5...\n",
      "2019-08-07 23:05:30,578 [MainThread] INFO HDF5Dataset - Loading training set from: ../h5_fractals/43.h5...\n",
      "2019-08-07 23:05:30,699 [MainThread] INFO HDF5Dataset - Loading training set from: ../h5_fractals/44.h5...\n",
      "2019-08-07 23:05:30,820 [MainThread] INFO HDF5Dataset - Loading training set from: ../h5_fractals/45.h5...\n",
      "2019-08-07 23:05:30,945 [MainThread] INFO HDF5Dataset - Loading training set from: ../h5_fractals/46.h5...\n",
      "2019-08-07 23:05:31,068 [MainThread] INFO HDF5Dataset - Loading training set from: ../h5_fractals/47.h5...\n",
      "2019-08-07 23:05:31,197 [MainThread] INFO HDF5Dataset - Loading training set from: ../h5_fractals/48.h5...\n",
      "2019-08-07 23:05:31,316 [MainThread] INFO HDF5Dataset - Loading training set from: ../h5_fractals/49.h5...\n",
      "2019-08-07 23:05:31,434 [MainThread] INFO HDF5Dataset - Loading training set from: ../h5_fractals/50.h5...\n",
      "2019-08-07 23:05:31,550 [MainThread] INFO HDF5Dataset - Loading training set from: ../h5_fractals/51.h5...\n",
      "2019-08-07 23:05:31,662 [MainThread] INFO HDF5Dataset - Loading training set from: ../h5_fractals/52.h5...\n",
      "2019-08-07 23:05:31,777 [MainThread] INFO HDF5Dataset - Loading training set from: ../h5_fractals/53.h5...\n",
      "2019-08-07 23:05:31,900 [MainThread] INFO HDF5Dataset - Loading training set from: ../h5_fractals/54.h5...\n",
      "2019-08-07 23:05:32,017 [MainThread] INFO HDF5Dataset - Loading training set from: ../h5_fractals/55.h5...\n",
      "2019-08-07 23:05:32,133 [MainThread] INFO HDF5Dataset - Loading training set from: ../h5_fractals/56.h5...\n",
      "2019-08-07 23:05:32,251 [MainThread] INFO HDF5Dataset - Loading training set from: ../h5_fractals/57.h5...\n",
      "2019-08-07 23:05:32,365 [MainThread] INFO HDF5Dataset - Loading training set from: ../h5_fractals/58.h5...\n",
      "2019-08-07 23:05:32,479 [MainThread] INFO HDF5Dataset - Loading training set from: ../h5_fractals/59.h5...\n",
      "2019-08-07 23:05:32,593 [MainThread] INFO HDF5Dataset - Loading training set from: ../h5_fractals/60.h5...\n",
      "2019-08-07 23:05:32,706 [MainThread] INFO HDF5Dataset - Loading training set from: ../h5_fractals/61.h5...\n",
      "2019-08-07 23:05:32,822 [MainThread] INFO HDF5Dataset - Loading training set from: ../h5_fractals/62.h5...\n",
      "2019-08-07 23:05:32,943 [MainThread] INFO HDF5Dataset - Loading training set from: ../h5_fractals/63.h5...\n",
      "2019-08-07 23:05:33,066 [MainThread] INFO HDF5Dataset - Loading training set from: ../h5_fractals/64.h5...\n",
      "2019-08-07 23:05:33,192 [MainThread] INFO HDF5Dataset - Loading training set from: ../h5_fractals/65.h5...\n",
      "2019-08-07 23:05:33,318 [MainThread] INFO HDF5Dataset - Loading training set from: ../h5_fractals/66.h5...\n",
      "2019-08-07 23:05:33,435 [MainThread] INFO HDF5Dataset - Loading training set from: ../h5_fractals/67.h5...\n",
      "2019-08-07 23:05:33,553 [MainThread] INFO HDF5Dataset - Loading training set from: ../h5_fractals/68.h5...\n",
      "2019-08-07 23:05:33,671 [MainThread] INFO HDF5Dataset - Loading training set from: ../h5_fractals/69.h5...\n",
      "2019-08-07 23:05:33,793 [MainThread] INFO HDF5Dataset - Loading validation set from: ../h5_fractals/70.h5...\n",
      "2019-08-07 23:05:33,910 [MainThread] INFO HDF5Dataset - Loading validation set from: ../h5_fractals/71.h5...\n",
      "2019-08-07 23:05:34,023 [MainThread] INFO HDF5Dataset - Loading validation set from: ../h5_fractals/72.h5...\n",
      "2019-08-07 23:05:34,142 [MainThread] INFO HDF5Dataset - Loading validation set from: ../h5_fractals/73.h5...\n",
      "2019-08-07 23:05:34,264 [MainThread] INFO HDF5Dataset - Loading validation set from: ../h5_fractals/74.h5...\n",
      "2019-08-07 23:05:34,380 [MainThread] INFO HDF5Dataset - Loading validation set from: ../h5_fractals/75.h5...\n",
      "2019-08-07 23:05:34,498 [MainThread] INFO HDF5Dataset - Number of workers for train/val datasets: 12\n"
     ]
    }
   ],
   "source": [
    "# Create data loaders\n",
    "loaders = get_train_loaders(config)"
   ]
  },
  {
   "cell_type": "code",
   "execution_count": 6,
   "metadata": {},
   "outputs": [],
   "source": [
    "image,label = next(iter(loaders['train']))\n",
    "val_image, val_label = next(iter(loaders['val']))"
   ]
  },
  {
   "cell_type": "code",
   "execution_count": 7,
   "metadata": {},
   "outputs": [],
   "source": [
    "#assert np.all((image == val_image).numpy()), 'test, train images are different'\n",
    "#assert np.all((label == val_label).numpy()), 'test, train labels are different'"
   ]
  },
  {
   "cell_type": "code",
   "execution_count": 8,
   "metadata": {},
   "outputs": [
    {
     "name": "stderr",
     "output_type": "stream",
     "text": [
      "/home/gheimber/miniconda3/envs/dev2/lib/python3.7/site-packages/ipyvolume/serialize.py:81: RuntimeWarning: invalid value encountered in true_divide\n",
      "  gradient = gradient / np.sqrt(gradient[0]**2 + gradient[1]**2 + gradient[2]**2)\n"
     ]
    },
    {
     "data": {
      "application/vnd.jupyter.widget-view+json": {
       "model_id": "a499fd1177d84648b46eab42d6c67dec",
       "version_major": 2,
       "version_minor": 0
      },
      "text/plain": [
       "VBox(children=(VBox(children=(HBox(children=(Label(value='levels:'), FloatSlider(value=0.1, max=1.0, step=0.00…"
      ]
     },
     "metadata": {},
     "output_type": "display_data"
    }
   ],
   "source": [
    "ipv.quickvolshow(val_image[0,0,:,:,:])"
   ]
  },
  {
   "cell_type": "code",
   "execution_count": 9,
   "metadata": {},
   "outputs": [
    {
     "data": {
      "application/vnd.jupyter.widget-view+json": {
       "model_id": "83e27a49fe1e477a87be90ea95e7a06a",
       "version_major": 2,
       "version_minor": 0
      },
      "text/plain": [
       "VBox(children=(VBox(children=(HBox(children=(Label(value='levels:'), FloatSlider(value=0.1, max=1.0, step=0.00…"
      ]
     },
     "metadata": {},
     "output_type": "display_data"
    }
   ],
   "source": [
    "ipv.quickvolshow(val_label[0,:,:,:])"
   ]
  },
  {
   "cell_type": "code",
   "execution_count": 10,
   "metadata": {},
   "outputs": [
    {
     "name": "stdout",
     "output_type": "stream",
     "text": [
      "31.38115382194519\n"
     ]
    }
   ],
   "source": [
    "t_start = time.time()\n",
    "with torch.no_grad():\n",
    "      output = model(val_image)\n",
    "print(time.time() - t_start)\n",
    "prediction_np = output.detach().numpy()\n"
   ]
  },
  {
   "cell_type": "code",
   "execution_count": 11,
   "metadata": {},
   "outputs": [
    {
     "data": {
      "application/vnd.jupyter.widget-view+json": {
       "model_id": "21c8bf98a2054745adbedb3a2f3da547",
       "version_major": 2,
       "version_minor": 0
      },
      "text/plain": [
       "VBox(children=(VBox(children=(HBox(children=(Label(value='levels:'), FloatSlider(value=0.1, max=1.0, step=0.00…"
      ]
     },
     "metadata": {},
     "output_type": "display_data"
    }
   ],
   "source": [
    "ipv.quickvolshow(val_image[0,0,:,:,:].numpy() + prediction_np[0,1,:,:,:])"
   ]
  },
  {
   "cell_type": "code",
   "execution_count": 12,
   "metadata": {},
   "outputs": [
    {
     "data": {
      "application/vnd.jupyter.widget-view+json": {
       "model_id": "908a891108484f5ab8dc1d2855964150",
       "version_major": 2,
       "version_minor": 0
      },
      "text/plain": [
       "VBox(children=(VBox(children=(HBox(children=(Label(value='levels:'), FloatSlider(value=0.1, max=1.0, step=0.00…"
      ]
     },
     "metadata": {},
     "output_type": "display_data"
    }
   ],
   "source": [
    "ipv.quickvolshow(prediction_np[0,1,:,:,:])"
   ]
  },
  {
   "cell_type": "code",
   "execution_count": 13,
   "metadata": {},
   "outputs": [
    {
     "data": {
      "text/plain": [
       "torch.Size([1, 1, 128, 128, 128])"
      ]
     },
     "execution_count": 13,
     "metadata": {},
     "output_type": "execute_result"
    }
   ],
   "source": [
    "image.shape"
   ]
  },
  {
   "cell_type": "code",
   "execution_count": 14,
   "metadata": {},
   "outputs": [
    {
     "data": {
      "application/vnd.jupyter.widget-view+json": {
       "model_id": "cce17afe01b94643b66256f9bc29c042",
       "version_major": 2,
       "version_minor": 0
      },
      "text/plain": [
       "VBox(children=(VBox(children=(HBox(children=(Label(value='levels:'), FloatSlider(value=0.1, max=1.0, step=0.00…"
      ]
     },
     "metadata": {},
     "output_type": "display_data"
    }
   ],
   "source": [
    "ipv.quickvolshow(prediction_np[0,1,:,:,:] + val_label[0,:,:,:].numpy())"
   ]
  },
  {
   "cell_type": "code",
   "execution_count": 15,
   "metadata": {},
   "outputs": [
    {
     "data": {
      "text/plain": [
       "<matplotlib.image.AxesImage at 0x7fc27aa87be0>"
      ]
     },
     "execution_count": 15,
     "metadata": {},
     "output_type": "execute_result"
    },
    {
     "data": {
      "image/png": "[encoded data removed]",
      "text/plain": [
       "<Figure size 432x288 with 1 Axes>"
      ]
     },
     "metadata": {
      "needs_background": "light"
     },
     "output_type": "display_data"
    }
   ],
   "source": [
    "plt.imshow(np.max(prediction_np[0,1,:,:,:], axis=1))"
   ]
  },
  {
   "cell_type": "code",
   "execution_count": 16,
   "metadata": {},
   "outputs": [
    {
     "name": "stderr",
     "output_type": "stream",
     "text": [
      "/home/gheimber/miniconda3/envs/dev2/lib/python3.7/site-packages/torch/nn/modules/module.py:493: UserWarning: Implicit dimension choice for softmax has been deprecated. Change the call to include dim=X as an argument.\n",
      "  result = self.forward(*input, **kwargs)\n"
     ]
    }
   ],
   "source": [
    "loss_fn = get_loss_criterion(config)\n",
    "loss_value = loss_fn(output, label)"
   ]
  },
  {
   "cell_type": "code",
   "execution_count": 17,
   "metadata": {},
   "outputs": [
    {
     "data": {
      "text/plain": [
       "tensor(0.3285)"
      ]
     },
     "execution_count": 17,
     "metadata": {},
     "output_type": "execute_result"
    }
   ],
   "source": [
    "loss_value"
   ]
  },
  {
   "cell_type": "markdown",
   "metadata": {},
   "source": [
    "## load pytorch intermediate tensor"
   ]
  },
  {
   "cell_type": "code",
   "execution_count": 5,
   "metadata": {},
   "outputs": [],
   "source": [
    "a = torch.load('file.pt')"
   ]
  },
  {
   "cell_type": "code",
   "execution_count": 15,
   "metadata": {},
   "outputs": [
    {
     "data": {
      "application/vnd.jupyter.widget-view+json": {
       "model_id": "20757ccc4cd14726b31f4808337f4441",
       "version_major": 2,
       "version_minor": 0
      },
      "text/plain": [
       "VBox(children=(VBox(children=(HBox(children=(Label(value='levels:'), FloatSlider(value=0.1, max=1.0, step=0.00…"
      ]
     },
     "metadata": {},
     "output_type": "display_data"
    }
   ],
   "source": [
    "ipv.quickvolshow(a.cpu().detach().numpy()[0,0,:,:,:])"
   ]
  },
  {
   "cell_type": "code",
   "execution_count": null,
   "metadata": {},
   "outputs": [],
   "source": []
  }
 ],
 "metadata": {
  "kernelspec": {
   "display_name": "Python 3",
   "language": "python",
   "name": "python3"
  },
  "language_info": {
   "codemirror_mode": {
    "name": "ipython",
    "version": 3
   },
   "file_extension": ".py",
   "mimetype": "text/x-python",
   "name": "python",
   "nbconvert_exporter": "python",
   "pygments_lexer": "ipython3",
   "version": "3.7.3"
  }
 },
 "nbformat": 4,
 "nbformat_minor": 4
}
